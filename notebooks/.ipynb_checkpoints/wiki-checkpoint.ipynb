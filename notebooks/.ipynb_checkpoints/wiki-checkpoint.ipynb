{
 "cells": [
  {
   "cell_type": "markdown",
   "metadata": {},
   "source": [
    "## Using cloudbox"
   ]
  },
  {
   "cell_type": "markdown",
   "metadata": {},
   "source": [
    "### Image tools (cloudbox.image)"
   ]
  },
  {
   "cell_type": "markdown",
   "metadata": {},
   "source": [
    "Get a direct link to image (that can be embedded in `.html` and `.md` files) by passing filename. filename defaults to 'measurement_rois.png'"
   ]
  },
  {
   "cell_type": "code",
   "execution_count": 1,
   "metadata": {},
   "outputs": [
    {
     "name": "stdout",
     "output_type": "stream",
     "text": [
      "https://www.dropbox.com/s/aawjafji7uv8rz0/measurement_rois.png?raw=true\n"
     ]
    }
   ],
   "source": [
    "from cloudbox import image, constants\n",
    "link = image.get_direct_link(filename=\"measurement_rois.png\")"
   ]
  },
  {
   "cell_type": "markdown",
   "metadata": {},
   "source": [
    "Embedded image:\n",
    "<img src=\"https://www.dropbox.com/s/aawjafji7uv8rz0/measurement_rois.png?raw=true\" width=500/>"
   ]
  },
  {
   "cell_type": "markdown",
   "metadata": {},
   "source": [
    "Get a direct link to the most recently uploaded image"
   ]
  },
  {
   "cell_type": "code",
   "execution_count": 45,
   "metadata": {},
   "outputs": [
    {
     "name": "stdout",
     "output_type": "stream",
     "text": [
      "https://www.dropbox.com/s/820hixsremdld3k/2018-07-20.png?raw=true\n"
     ]
    }
   ],
   "source": [
    "# Old image that was recently uploaded\n",
    "from cloudbox import image\n",
    "url = image.recently_uploaded_link()"
   ]
  },
  {
   "cell_type": "markdown",
   "metadata": {},
   "source": [
    "Get a direct link to the most recently modified image"
   ]
  },
  {
   "cell_type": "code",
   "execution_count": 46,
   "metadata": {},
   "outputs": [
    {
     "name": "stdout",
     "output_type": "stream",
     "text": [
      "https://www.dropbox.com/s/fsv2bvrxtlpkzte/byc_schematic.png?raw=true\n"
     ]
    }
   ],
   "source": [
    "# Recently uploaded and modifed image\n",
    "from cloudbox import image\n",
    "url = image.recently_modified_link()"
   ]
  },
  {
   "cell_type": "markdown",
   "metadata": {},
   "source": [
    "Write all text from clipboard to a new note in box sync/notes/text/daily"
   ]
  },
  {
   "cell_type": "code",
   "execution_count": 263,
   "metadata": {},
   "outputs": [
    {
     "name": "stdout",
     "output_type": "stream",
     "text": [
      "Added to existing note at: C:\\Users\\John Cooper\\Box Sync\\notes\\text\\daily\\20200707_cloning.txt\n"
     ]
    }
   ],
   "source": [
    "from cloudbox import text\n",
    "reload(text)\n",
    "text.write_note_from_clipboard()"
   ]
  }
 ],
 "metadata": {
  "kernelspec": {
   "display_name": ".cloudbox",
   "language": "python",
   "name": ".cloudbox"
  },
  "language_info": {
   "codemirror_mode": {
    "name": "ipython",
    "version": 3
   },
   "file_extension": ".py",
   "mimetype": "text/x-python",
   "name": "python",
   "nbconvert_exporter": "python",
   "pygments_lexer": "ipython3",
   "version": "3.8.3"
  }
 },
 "nbformat": 4,
 "nbformat_minor": 4
}
